{
 "cells": [
  {
   "cell_type": "code",
   "execution_count": 1,
   "metadata": {},
   "outputs": [],
   "source": [
    "import json\n",
    "import smtplib\n",
    "import time\n",
    "import webbrowser\n",
    "from email.mime.multipart import MIMEMultipart\n",
    "from email.mime.text import MIMEText\n",
    "from pathlib import Path\n",
    "\n",
    "import jinja2\n",
    "import numpy as np\n",
    "import pandas as pd\n",
    "from jinja2 import Environment, FileSystemLoader\n",
    "from unidecode import unidecode\n",
    "\n",
    "from wedding_email.constants import (\n",
    "    INTERIM_DATA_PATH,\n",
    "    PROCESSED_DATA_PATH,\n",
    "    RAW_DATA_PATH,\n",
    "    MAIL_APP_PASSWORD,\n",
    ")\n",
    "from wedding_email.main import (\n",
    "    load_answers,\n",
    "    load_guests,\n",
    "    populate_template,\n",
    "    read_mail_dict,\n",
    "    generate_mail_text,\n",
    "    get_mail_html,\n",
    "    get_mail_text,\n",
    "    send_email,\n",
    ")"
   ]
  },
  {
   "cell_type": "code",
   "execution_count": 2,
   "metadata": {},
   "outputs": [],
   "source": [
    "%reload_ext autoreload\n",
    "%autoreload 2"
   ]
  },
  {
   "cell_type": "code",
   "execution_count": 12,
   "metadata": {},
   "outputs": [],
   "source": [
    "\n",
    "path_to_mariage_data = RAW_DATA_PATH / \"mariage.ods\"\n",
    "answers = load_answers(path_to_mariage_data)\n",
    "\n",
    "# Choisir une ligne au hasard\n",
    "random_row = np.random.choice(answers.index)\n",
    "# answers = answers.loc[[28]]\n",
    "# answers\n"
   ]
  },
  {
   "cell_type": "code",
   "execution_count": 13,
   "metadata": {},
   "outputs": [],
   "source": [
    "# itérer sur les lignes\n",
    "for idx, row in answers.iterrows():\n",
    "    # print(row[\"courriel\"])\n",
    "\n",
    "    populate_template(guest=row)\n",
    "    generate_mail_text(guest=row)\n",
    "\n",
    "    sender_email = \"joris.limonier@gmail.com\"\n",
    "    receiver_email = row[\"courriel\"]\n",
    "\n",
    "    message = MIMEMultipart(\"alternative\")\n",
    "    message[\"Subject\"] = \"Mariage Hélène et Joris | Liste de mariage et désistements\"\n",
    "    message[\"From\"] = sender_email\n",
    "    message[\"To\"] = receiver_email\n",
    "\n",
    "    text = get_mail_text()\n",
    "    html = get_mail_html()\n",
    "\n",
    "    # send_email(\n",
    "    #     sender_email=sender_email,\n",
    "    #     receiver_email=receiver_email,\n",
    "    #     password=MAIL_APP_PASSWORD,\n",
    "    #     message=message,\n",
    "    #     text=text,\n",
    "    #     html=html,\n",
    "    # )\n",
    "\n",
    "    # time.sleep(0.0)"
   ]
  }
 ],
 "metadata": {
  "kernelspec": {
   "display_name": "wedding",
   "language": "python",
   "name": "python3"
  },
  "language_info": {
   "codemirror_mode": {
    "name": "ipython",
    "version": 3
   },
   "file_extension": ".py",
   "mimetype": "text/x-python",
   "name": "python",
   "nbconvert_exporter": "python",
   "pygments_lexer": "ipython3",
   "version": "3.12.2"
  }
 },
 "nbformat": 4,
 "nbformat_minor": 2
}
